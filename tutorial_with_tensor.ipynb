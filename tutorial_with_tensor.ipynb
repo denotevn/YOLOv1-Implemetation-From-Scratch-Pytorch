{
 "cells": [
  {
   "cell_type": "code",
   "execution_count": 1,
   "metadata": {},
   "outputs": [
    {
     "name": "stdout",
     "output_type": "stream",
     "text": [
      "[[[ 1]\n",
      "  [ 5]\n",
      "  [ 9]]\n",
      "\n",
      " [[13]\n",
      "  [17]\n",
      "  [21]]]\n"
     ]
    }
   ],
   "source": [
    "import numpy as np\n",
    "\n",
    "# Create a 3D tensor with shape (2, 3, 4)\n",
    "tensor3D = np.array([\n",
    "    [[1, 2, 3, 4], [5, 6, 7, 8], [9, 10, 11, 12]],\n",
    "    [[13, 14, 15, 16], [17, 18, 19, 20], [21, 22, 23, 24]]\n",
    "])\n",
    "\n",
    "# Select all the elements in the last two dimensions and only the first element in the first dimension\n",
    "slice1 = tensor3D[..., 0:1]\n",
    "\n",
    "print(slice1)"
   ]
  },
  {
   "attachments": {},
   "cell_type": "markdown",
   "metadata": {},
   "source": [
    "The ... notation is useful when dealing with tensors with varying dimensions, such as those commonly used in deep learning models."
   ]
  },
  {
   "cell_type": "code",
   "execution_count": null,
   "metadata": {},
   "outputs": [],
   "source": []
  }
 ],
 "metadata": {
  "kernelspec": {
   "display_name": "env",
   "language": "python",
   "name": "python3"
  },
  "language_info": {
   "codemirror_mode": {
    "name": "ipython",
    "version": 3
   },
   "file_extension": ".py",
   "mimetype": "text/x-python",
   "name": "python",
   "nbconvert_exporter": "python",
   "pygments_lexer": "ipython3",
   "version": "3.10.6"
  },
  "orig_nbformat": 4,
  "vscode": {
   "interpreter": {
    "hash": "2ed06cc8e294991305472f7544b930fff66041616b0e1071967a43cc27fef4b0"
   }
  }
 },
 "nbformat": 4,
 "nbformat_minor": 2
}
